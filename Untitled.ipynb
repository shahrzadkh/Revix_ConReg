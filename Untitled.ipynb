{
 "cells": [
  {
   "cell_type": "code",
   "execution_count": 1,
   "metadata": {},
   "outputs": [
    {
     "name": "stdout",
     "output_type": "stream",
     "text": [
      "Collecting json2html\n",
      "  Downloading json2html-1.3.0.tar.gz (7.0 kB)\n",
      "Building wheels for collected packages: json2html\n",
      "  Building wheel for json2html (setup.py) ... \u001b[?25ldone\n",
      "\u001b[?25h  Created wheel for json2html: filename=json2html-1.3.0-py3-none-any.whl size=7595 sha256=605b922c1fcb392f4d57752be492c43d0a045dca4c0d652c52b78db2abb91a75\n",
      "  Stored in directory: /home/brain/.cache/pip/wheels/ac/31/34/ddfd5ecba08389f839470d849288be216fcb22f1403eaa05df\n",
      "Successfully built json2html\n",
      "Installing collected packages: json2html\n",
      "Successfully installed json2html-1.3.0\n"
     ]
    }
   ],
   "source": [
    "!pip install json2html\n"
   ]
  },
  {
   "cell_type": "code",
   "execution_count": 34,
   "metadata": {},
   "outputs": [],
   "source": [
    "from json2html import *\n",
    "import os\n",
    "import re"
   ]
  },
  {
   "cell_type": "code",
   "execution_count": null,
   "metadata": {
    "scrolled": true
   },
   "outputs": [
    {
     "name": "stdout",
     "output_type": "stream",
     "text": [
      "01998L0026-20190627\n",
      "Loading page (1/2)\n",
      "Printing pages (2/2)                                               \n",
      "Done                                                           \n",
      "01998R2532-20150204\n",
      "Loading page (1/2)\n",
      "Printing pages (2/2)                                               \n",
      "Done                                                           \n",
      "02001L0024-20140702\n",
      "Loading page (1/2)\n",
      "Printing pages (2/2)                                               \n",
      "Done                                                           \n",
      "02008L0048-20190726\n",
      "Loading page (1/2)\n",
      "Printing pages (2/2)                                               \n",
      "Done                                                           \n",
      "02009L0065-20200107\n",
      "Loading page (1/2)\n",
      "Printing pages (2/2)                                               \n",
      "Done                                                           \n",
      "02009R0924-20200419\n",
      "Loading page (1/2)\n",
      "Printing pages (2/2)                                               \n",
      "Done                                                           \n",
      "02009R1060-20190101\n",
      "Loading page (1/2)\n",
      "Printing pages (2/2)                                               \n",
      "Done                                                           \n",
      "02010L0044-20100710\n",
      "Loading page (1/2)\n",
      "Printing pages (2/2)                                               \n",
      "Done                                                           \n",
      "02010R1092-20191230\n",
      "Loading page (1/2)\n",
      "Printing pages (2/2)                                               \n",
      "Done                                                           \n",
      "02012R0236-20140917\n",
      "Loading page (1/2)\n",
      "Printing pages (2/2)                                               \n",
      "Done                                                           \n",
      "02012R0648-20200101\n",
      "Loading page (1/2)\n",
      "Printing pages (2/2)                                               \n",
      "Done                                                           \n",
      "02012R0918-20150212\n",
      "Loading page (1/2)\n",
      "Printing pages (2/2)                                               \n",
      "Done                                                           \n",
      "02012R1247-20190411\n",
      "Loading page (1/2)\n",
      "Printing pages (2/2)                                               \n",
      "Done                                                           \n",
      "02013R0148-20171101\n",
      "Loading page (1/2)\n",
      "Printing pages (2/2)                                               \n",
      "Done                                                           \n",
      "02013R0149-20180103\n",
      "Loading page (1/2)\n",
      "Printing pages (2/2)                                               \n",
      "Done                                                           \n",
      "02013R0150-20190411\n",
      "Loading page (1/2)\n",
      "Printing pages (2/2)                                               \n",
      "Done                                                           \n",
      "02013R0151-20190411\n",
      "Loading page (1/2)\n",
      "Printing pages (2/2)                                               \n",
      "Done                                                           \n",
      "02013R0231-20200401\n",
      "Loading page (1/2)\n",
      "Printing pages (2/2)                                               \n",
      "Done                                                           \n",
      "02013R0345-20180301\n",
      "Loading page (1/2)\n",
      "Printing pages (2/2)                                               \n",
      "Done                                                           \n",
      "02013R0346-20180301\n",
      "Loading page (1/2)\n",
      "Printing pages (2/2)                                               \n",
      "Done                                                           \n",
      "02013R0575-20191225\n",
      "Loading page (1/2)\n",
      "Printing pages (2/2)                                               \n",
      "Done                                                           \n",
      "02014L0059-20200107\n",
      "Loading page (1/2)\n",
      "Printing pages (2/2)                                               \n",
      "Done                                                           \n",
      "02014L0065-20200326\n",
      "Loading page (1/2)\n",
      "Printing pages (2/2)                                               \n",
      "Done                                                           \n",
      "02014R0529-20150709\n",
      "Loading page (1/2)\n",
      "Printing pages (2/2)                                               \n",
      "Done                                                           \n",
      "02014R0604-20160602\n",
      "Loading page (1/2)\n",
      "Printing pages (2/2)                                               \n",
      "Done                                                           \n",
      "02014R0625-20151028\n",
      "Loading page (1/2)\n",
      "Printing pages (2/2)                                               \n",
      "Done                                                           \n",
      "02014R0650-20190625\n",
      "Loading page (1/2)\n",
      "Printing pages (2/2)                                               \n",
      "Done                                                           \n",
      "02014R1163-20200101\n",
      "Loading page (1/2)\n",
      "Printing pages (2/2)                                               \n",
      "Done                                                           \n",
      "02014R1286-20190801\n",
      "Loading page (1/2)\n",
      "Printing pages (2/2)                                               \n",
      "Done                                                           \n",
      "02014R1333-20191028\n",
      "Loading page (1/2)\n",
      "Printing pages (2/2)                                               \n",
      "Done                                                           \n",
      "02015R0061-20200430\n"
     ]
    }
   ],
   "source": [
    "os.chdir('/media/sf_skharabian/Google Drive/AiTalents/ConReg_v1/')\n",
    "tmp_dir = !pwd\n",
    "Drive_dir=tmp_dir[0]\n",
    "\n",
    "Orig_dir = os.path.join(Drive_dir, 'ai-challenge/')\n",
    "all_jason_list_path = os.path.join(Drive_dir, \"myfile.txt\")\n",
    "with open(all_jason_list_path) as fp: \n",
    "    Lines = fp.readlines() \n",
    "    for line in Lines: \n",
    "        with open(os.path.join(Orig_dir, line.strip()), \"r\") as f:\n",
    "            data_1 = json.load(f)\n",
    "            d = json2html.convert(json=data_1)\n",
    "            act=re.sub('\\.json$', '', line.strip())\n",
    "            print(act)\n",
    "            Html_file= os.path.join(Drive_dir,'Json_2_html',act+ '.html')\n",
    "            #Html_file.write(d)\n",
    "            #Html_file.close()\n",
    "            import pdfkit \n",
    "            pdfkit.from_file(Html_file, os.path.join(Drive_dir,'Json_2_html_2_pDF',act+ '.pdf'))\n"
   ]
  },
  {
   "cell_type": "code",
   "execution_count": 21,
   "metadata": {},
   "outputs": [],
   "source": [
    "d = json2html.convert(json=data_1)"
   ]
  },
  {
   "cell_type": "code",
   "execution_count": 18,
   "metadata": {},
   "outputs": [],
   "source": [
    "import json\n",
    "file = '01998L0026-20190627.json'\n",
    "with open(file, \"r\") as f:\n",
    "    data_1 = json.load(f)\n"
   ]
  },
  {
   "cell_type": "code",
   "execution_count": 25,
   "metadata": {},
   "outputs": [],
   "source": [
    "os.chdir('/media/sf_skharabian/Google Drive/AiTalents/')\n",
    "Html_file= open(\"test.html\",\"w\")\n",
    "Html_file.write(d)\n",
    "Html_file.close()"
   ]
  },
  {
   "cell_type": "code",
   "execution_count": 23,
   "metadata": {},
   "outputs": [
    {
     "name": "stdout",
     "output_type": "stream",
     "text": [
      "/media/sf_skharabian/Google Drive/AiTalents/ConReg_v1/ai-challenge\r\n"
     ]
    }
   ],
   "source": [
    "!pwd"
   ]
  },
  {
   "cell_type": "code",
   "execution_count": 24,
   "metadata": {},
   "outputs": [
    {
     "data": {
      "text/plain": [
       "22294"
      ]
     },
     "execution_count": 24,
     "metadata": {},
     "output_type": "execute_result"
    }
   ],
   "source": [
    "len(d)"
   ]
  },
  {
   "cell_type": "code",
   "execution_count": 50,
   "metadata": {},
   "outputs": [
    {
     "ename": "FileExistsError",
     "evalue": "[Errno 17] File exists: 'Json_2_html_2_pDF'",
     "output_type": "error",
     "traceback": [
      "\u001b[0;31m---------------------------------------------------------------------------\u001b[0m",
      "\u001b[0;31mFileExistsError\u001b[0m                           Traceback (most recent call last)",
      "\u001b[0;32m<ipython-input-50-ed1c18488f09>\u001b[0m in \u001b[0;36m<module>\u001b[0;34m\u001b[0m\n\u001b[1;32m      1\u001b[0m \u001b[0mos\u001b[0m\u001b[0;34m.\u001b[0m\u001b[0mchdir\u001b[0m\u001b[0;34m(\u001b[0m\u001b[0;34m'/media/sf_skharabian/Google Drive/AiTalents/ConReg_v1/'\u001b[0m\u001b[0;34m)\u001b[0m\u001b[0;34m\u001b[0m\u001b[0;34m\u001b[0m\u001b[0m\n\u001b[0;32m----> 2\u001b[0;31m \u001b[0mos\u001b[0m\u001b[0;34m.\u001b[0m\u001b[0mmkdir\u001b[0m\u001b[0;34m(\u001b[0m\u001b[0;34m'Json_2_html_2_pDF'\u001b[0m\u001b[0;34m)\u001b[0m\u001b[0;34m\u001b[0m\u001b[0;34m\u001b[0m\u001b[0m\n\u001b[0m",
      "\u001b[0;31mFileExistsError\u001b[0m: [Errno 17] File exists: 'Json_2_html_2_pDF'"
     ]
    }
   ],
   "source": [
    "os.chdir('/media/sf_skharabian/Google Drive/AiTalents/ConReg_v1/')\n",
    "os.mkdir('Json_2_html_2_pDF')"
   ]
  },
  {
   "cell_type": "code",
   "execution_count": 49,
   "metadata": {},
   "outputs": [
    {
     "ename": "OSError",
     "evalue": "[Errno 39] Directory not empty: 'Json_2_html_2_pDF'",
     "output_type": "error",
     "traceback": [
      "\u001b[0;31m---------------------------------------------------------------------------\u001b[0m",
      "\u001b[0;31mOSError\u001b[0m                                   Traceback (most recent call last)",
      "\u001b[0;32m<ipython-input-49-9d0a822a8f1d>\u001b[0m in \u001b[0;36m<module>\u001b[0;34m\u001b[0m\n\u001b[1;32m      1\u001b[0m \u001b[0mos\u001b[0m\u001b[0;34m.\u001b[0m\u001b[0mchdir\u001b[0m\u001b[0;34m(\u001b[0m\u001b[0;34m'/media/sf_skharabian/Google Drive/AiTalents/ConReg_v1/'\u001b[0m\u001b[0;34m)\u001b[0m\u001b[0;34m\u001b[0m\u001b[0;34m\u001b[0m\u001b[0m\n\u001b[1;32m      2\u001b[0m \u001b[0;34m\u001b[0m\u001b[0m\n\u001b[0;32m----> 3\u001b[0;31m \u001b[0mos\u001b[0m\u001b[0;34m.\u001b[0m\u001b[0mrmdir\u001b[0m\u001b[0;34m(\u001b[0m\u001b[0;34m'Json_2_html_2_pDF'\u001b[0m\u001b[0;34m)\u001b[0m\u001b[0;34m\u001b[0m\u001b[0;34m\u001b[0m\u001b[0m\n\u001b[0m",
      "\u001b[0;31mOSError\u001b[0m: [Errno 39] Directory not empty: 'Json_2_html_2_pDF'"
     ]
    }
   ],
   "source": [
    "os.chdir('/media/sf_skharabian/Google Drive/AiTalents/ConReg_v1/')\n",
    "\n"
   ]
  },
  {
   "cell_type": "code",
   "execution_count": 44,
   "metadata": {},
   "outputs": [
    {
     "name": "stdout",
     "output_type": "stream",
     "text": [
      "Loading page (1/2)\n",
      "[>                                                           ] 0%\r",
      "[======>                                                     ] 10%\r",
      "[===============>                                            ] 25%\r",
      "[=======================>                                    ] 39%\r",
      "[==============================>                             ] 50%\r",
      "[============================================================] 100%\r",
      "Printing pages (2/2)                                               \n",
      "[>                                                           ] \r",
      "Done                                                           \n"
     ]
    },
    {
     "data": {
      "text/plain": [
       "True"
      ]
     },
     "execution_count": 44,
     "metadata": {},
     "output_type": "execute_result"
    }
   ],
   "source": []
  },
  {
   "cell_type": "code",
   "execution_count": 45,
   "metadata": {},
   "outputs": [
    {
     "name": "stdout",
     "output_type": "stream",
     "text": [
      "01998L0026-20190627.html  32005R1889.html  32015R0451.html  32018R0064.html\r\n",
      "01998R2532-20150204.html  32006L0073.html  32015R0514.html  32018R0065.html\r\n",
      "02001L0024-20140702.html  32006R1287.html  32015R0585.html  32018R0066.html\r\n",
      "02008L0048-20190726.html  32010L0043.html  32015R0751.html  32018R0067.html\r\n",
      "02009L0065-20200107.html  32010R0583.html  32015R0760.html  32018R0072.html\r\n",
      "02009R0924-20200419.html  32010R0584.html  32015R1555.html  32018R0292.html\r\n",
      "02009R1060-20190101.html  32012R0272.html  32015R1556.html  32018R0389.html\r\n",
      "02010L0044-20100710.html  32012R0447.html  32015R2303.html  32018R0480.html\r\n",
      "02010R1092-20191230.html  32012R0449.html  32016R0098.html  32018R0708.html\r\n",
      "02012R0236-20140917.html  32012R0826.html  32016R0099.html  32018R0815.html\r\n",
      "02012R0648-20200101.html  32012R0827.html  32016R0100.html  32018R0959.html\r\n",
      "02012R0918-20150212.html  32012R0919.html  32016R0200.html  32018R1105.html\r\n",
      "02012R1247-20190411.html  32012R0946.html  32016R0347.html  32018R1106.html\r\n",
      "02013R0148-20171101.html  32012R1248.html  32016R0378.html  32018R1108.html\r\n",
      "02013R0149-20180103.html  32012R1249.html  32016R0445.html  32018R1637.html\r\n",
      "02013R0150-20190411.html  32013R0152.html  32016R0522.html  32018R1638.html\r\n",
      "02013R0151-20190411.html  32013R0153.html  32016R0523.html  32018R1639.html\r\n",
      "02013R0231-20200401.html  32013R0447.html  32016R0867.html  32018R1640.html\r\n",
      "02013R0345-20180301.html  32013R0448.html  32016R0892.html  32018R1641.html\r\n",
      "02013R0346-20180301.html  32013R0876.html  32016R0908.html  32018R1642.html\r\n",
      "02013R0575-20191225.html  32013R1003.html  32016R0909.html  32018R1643.html\r\n",
      "02014L0059-20200107.html  32013R1024.html  32016R0957.html  32018R1644.html\r\n",
      "02014L0065-20200326.html  32013R1423.html  32016R0959.html  32018R1645.html\r\n",
      "02014R0529-20150709.html  32014L0057.html  32016R0960.html  32018R1646.html\r\n",
      "02014R0604-20160602.html  32014L0092.html  32016R1052.html  32018R1672.html\r\n",
      "02014R0625-20151028.html  32014R0285.html  32016R1055.html  32018R1845.html\r\n",
      "02014R0650-20190625.html  32014R0468.html  32016R1212.html  32018R1889.html\r\n",
      "02014R1163-20200101.html  32014R0484.html  32016R1904.html  32019L1153.html\r\n",
      "02014R1286-20190801.html  32014R0524.html  32016R2227.html  32019L1937.html\r\n",
      "02014R1333-20191028.html  32014R0527.html  32017R0389.html  32019R0356.html\r\n",
      "02015R0061-20200430.html  32014R0591.html  32017R0391.html  32019R0357.html\r\n",
      "02015R0534-20200601.html  32014R0593.html  32017R0392.html  32019R0358.html\r\n",
      "02015R0847-20200101.html  32014R0594.html  32017R0393.html  32019R0359.html\r\n",
      "02015R2205-20200416.html  32014R0602.html  32017R0394.html  32019R0360.html\r\n",
      "02016R0438-20200401.html  32014R0667.html  32017R0747.html  32019R0365.html\r\n",
      "02016R0592-20190430.html  32014R0673.html  32017R0867.html  32019R0410.html\r\n",
      "02016R1178-20200416.html  32014R0694.html  32017R0954.html  32019R0411.html\r\n",
      "02016R1368-20190326.html  32014R1125.html  32017R1158.html  32019R0758.html\r\n",
      "02016R1675-20181022.html  32014R1187.html  32017R1944.html  32019R0819.html\r\n",
      "02016R2251-20200416.html  32014R1317.html  32017R2055.html  32019R0820.html\r\n",
      "02017R1131-20190101.html  32015L2392.html  32017R2295.html  32019R0885.html\r\n",
      "02018R0033-20180111.html  32015R0001.html  32017R2361.html  32019R1851.html\r\n",
      "02018R0034-20180111.html  32015R0002.html  32017R2402.html  out.pdf\r\n",
      "02018R1229-20191030.html  32015R0003.html  32018L1673.html\r\n",
      "02019R0815-20200101.html  32015R0081.html  32018R0032.html\r\n"
     ]
    }
   ],
   "source": [
    "!ls"
   ]
  },
  {
   "cell_type": "code",
   "execution_count": null,
   "metadata": {},
   "outputs": [],
   "source": []
  }
 ],
 "metadata": {
  "kernelspec": {
   "display_name": "Python 3",
   "language": "python",
   "name": "python3"
  },
  "language_info": {
   "codemirror_mode": {
    "name": "ipython",
    "version": 3
   },
   "file_extension": ".py",
   "mimetype": "text/x-python",
   "name": "python",
   "nbconvert_exporter": "python",
   "pygments_lexer": "ipython3",
   "version": "3.6.12"
  }
 },
 "nbformat": 4,
 "nbformat_minor": 4
}
