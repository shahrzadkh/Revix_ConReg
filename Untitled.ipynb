{
 "cells": [
  {
   "cell_type": "code",
   "execution_count": 1,
   "metadata": {},
   "outputs": [
    {
     "name": "stdout",
     "output_type": "stream",
     "text": [
      "Collecting json2html\n",
      "  Downloading json2html-1.3.0.tar.gz (7.0 kB)\n",
      "Building wheels for collected packages: json2html\n",
      "  Building wheel for json2html (setup.py) ... \u001b[?25ldone\n",
      "\u001b[?25h  Created wheel for json2html: filename=json2html-1.3.0-py3-none-any.whl size=7595 sha256=605b922c1fcb392f4d57752be492c43d0a045dca4c0d652c52b78db2abb91a75\n",
      "  Stored in directory: /home/brain/.cache/pip/wheels/ac/31/34/ddfd5ecba08389f839470d849288be216fcb22f1403eaa05df\n",
      "Successfully built json2html\n",
      "Installing collected packages: json2html\n",
      "Successfully installed json2html-1.3.0\n"
     ]
    }
   ],
   "source": [
    "!pip install json2html\n"
   ]
  },
  {
   "cell_type": "code",
   "execution_count": 34,
   "metadata": {},
   "outputs": [],
   "source": [
    "from json2html import *\n",
    "import os\n",
    "import re"
   ]
  },
  {
   "cell_type": "code",
   "execution_count": 37,
   "metadata": {},
   "outputs": [
    {
     "name": "stdout",
     "output_type": "stream",
     "text": [
      "01998L0026-20190627\n",
      "01998R2532-20150204\n",
      "02001L0024-20140702\n",
      "02008L0048-20190726\n",
      "02009L0065-20200107\n",
      "02009R0924-20200419\n",
      "02009R1060-20190101\n",
      "02010L0044-20100710\n",
      "02010R1092-20191230\n",
      "02012R0236-20140917\n",
      "02012R0648-20200101\n",
      "02012R0918-20150212\n",
      "02012R1247-20190411\n",
      "02013R0148-20171101\n",
      "02013R0149-20180103\n",
      "02013R0150-20190411\n",
      "02013R0151-20190411\n",
      "02013R0231-20200401\n",
      "02013R0345-20180301\n",
      "02013R0346-20180301\n",
      "02013R0575-20191225\n",
      "02014L0059-20200107\n",
      "02014L0065-20200326\n",
      "02014R0529-20150709\n",
      "02014R0604-20160602\n",
      "02014R0625-20151028\n",
      "02014R0650-20190625\n",
      "02014R1163-20200101\n",
      "02014R1286-20190801\n",
      "02014R1333-20191028\n",
      "02015R0061-20200430\n",
      "02015R0534-20200601\n",
      "02015R0847-20200101\n",
      "02015R2205-20200416\n",
      "02016R0438-20200401\n",
      "02016R0592-20190430\n",
      "02016R1178-20200416\n",
      "02016R1368-20190326\n",
      "02016R1675-20181022\n",
      "02016R2251-20200416\n",
      "02017R1131-20190101\n",
      "02018R0033-20180111\n",
      "02018R0034-20180111\n",
      "02018R1229-20191030\n",
      "02019R0815-20200101\n",
      "32005R1889\n",
      "32006L0073\n",
      "32006R1287\n",
      "32010L0043\n",
      "32010R0583\n",
      "32010R0584\n",
      "32012R0272\n",
      "32012R0447\n",
      "32012R0449\n",
      "32012R0826\n",
      "32012R0827\n",
      "32012R0919\n",
      "32012R0946\n",
      "32012R1248\n",
      "32012R1249\n",
      "32013R0152\n",
      "32013R0153\n",
      "32013R0447\n",
      "32013R0448\n",
      "32013R0876\n",
      "32013R1003\n",
      "32013R1024\n",
      "32013R1423\n",
      "32014L0057\n",
      "32014L0092\n",
      "32014R0285\n",
      "32014R0468\n",
      "32014R0484\n",
      "32014R0524\n",
      "32014R0527\n",
      "32014R0591\n",
      "32014R0593\n",
      "32014R0594\n",
      "32014R0602\n",
      "32014R0667\n",
      "32014R0673\n",
      "32014R0694\n",
      "32014R1125\n",
      "32014R1187\n",
      "32014R1317\n",
      "32015L2392\n",
      "32015R0001\n",
      "32015R0002\n",
      "32015R0003\n",
      "32015R0081\n",
      "32015R0451\n",
      "32015R0514\n",
      "32015R0585\n",
      "32015R0751\n",
      "32015R0760\n",
      "32015R1555\n",
      "32015R1556\n",
      "32015R2303\n",
      "32016R0098\n",
      "32016R0099\n",
      "32016R0100\n",
      "32016R0200\n",
      "32016R0347\n",
      "32016R0378\n",
      "32016R0445\n",
      "32016R0522\n",
      "32016R0523\n",
      "32016R0867\n",
      "32016R0892\n",
      "32016R0908\n",
      "32016R0909\n",
      "32016R0957\n",
      "32016R0959\n",
      "32016R0960\n",
      "32016R1052\n",
      "32016R1055\n",
      "32016R1212\n",
      "32016R1904\n",
      "32016R2227\n",
      "32017R0389\n",
      "32017R0391\n",
      "32017R0392\n",
      "32017R0393\n",
      "32017R0394\n",
      "32017R0747\n",
      "32017R0867\n",
      "32017R0954\n",
      "32017R1158\n",
      "32017R1944\n",
      "32017R2055\n",
      "32017R2295\n",
      "32017R2361\n",
      "32017R2402\n",
      "32018L1673\n",
      "32018R0032\n",
      "32018R0064\n",
      "32018R0065\n",
      "32018R0066\n",
      "32018R0067\n",
      "32018R0072\n",
      "32018R0292\n",
      "32018R0389\n",
      "32018R0480\n",
      "32018R0708\n",
      "32018R0815\n",
      "32018R0959\n",
      "32018R1105\n",
      "32018R1106\n",
      "32018R1108\n",
      "32018R1637\n",
      "32018R1638\n",
      "32018R1639\n",
      "32018R1640\n",
      "32018R1641\n",
      "32018R1642\n",
      "32018R1643\n",
      "32018R1644\n",
      "32018R1645\n",
      "32018R1646\n",
      "32018R1672\n",
      "32018R1845\n",
      "32018R1889\n",
      "32019L1153\n",
      "32019L1937\n",
      "32019R0356\n",
      "32019R0357\n",
      "32019R0358\n",
      "32019R0359\n",
      "32019R0360\n",
      "32019R0365\n",
      "32019R0410\n",
      "32019R0411\n",
      "32019R0758\n",
      "32019R0819\n",
      "32019R0820\n",
      "32019R0885\n",
      "32019R1851\n"
     ]
    }
   ],
   "source": [
    "os.chdir('/media/sf_skharabian/Google Drive/AiTalents/ConReg_v1/')\n",
    "tmp_dir = !pwd\n",
    "Drive_dir=tmp_dir[0]\n",
    "\n",
    "Orig_dir = os.path.join(Drive_dir, 'ai-challenge/')\n",
    "all_jason_list_path = os.path.join(Drive_dir, \"myfile.txt\")\n",
    "with open(all_jason_list_path) as fp: \n",
    "    Lines = fp.readlines() \n",
    "    for line in Lines: \n",
    "        with open(os.path.join(Orig_dir, line.strip()), \"r\") as f:\n",
    "            data_1 = json.load(f)\n",
    "            d = json2html.convert(json=data_1)\n",
    "            act=re.sub('\\.json$', '', line.strip())\n",
    "            print(act)\n",
    "            Html_file= open(os.path.join(Drive_dir,'Json_2_html',act+ \".html\"),\"w\")\n",
    "            Html_file.write(d)\n",
    "            Html_file.close()\n"
   ]
  },
  {
   "cell_type": "code",
   "execution_count": 21,
   "metadata": {},
   "outputs": [],
   "source": [
    "d = json2html.convert(json=data_1)"
   ]
  },
  {
   "cell_type": "code",
   "execution_count": 18,
   "metadata": {},
   "outputs": [],
   "source": [
    "import json\n",
    "file = '01998L0026-20190627.json'\n",
    "with open(file, \"r\") as f:\n",
    "    data_1 = json.load(f)\n"
   ]
  },
  {
   "cell_type": "code",
   "execution_count": 25,
   "metadata": {},
   "outputs": [],
   "source": [
    "os.chdir('/media/sf_skharabian/Google Drive/AiTalents/')\n",
    "Html_file= open(\"test.html\",\"w\")\n",
    "Html_file.write(d)\n",
    "Html_file.close()"
   ]
  },
  {
   "cell_type": "code",
   "execution_count": 23,
   "metadata": {},
   "outputs": [
    {
     "name": "stdout",
     "output_type": "stream",
     "text": [
      "/media/sf_skharabian/Google Drive/AiTalents/ConReg_v1/ai-challenge\r\n"
     ]
    }
   ],
   "source": [
    "!pwd"
   ]
  },
  {
   "cell_type": "code",
   "execution_count": 24,
   "metadata": {},
   "outputs": [
    {
     "data": {
      "text/plain": [
       "22294"
      ]
     },
     "execution_count": 24,
     "metadata": {},
     "output_type": "execute_result"
    }
   ],
   "source": [
    "len(d)"
   ]
  },
  {
   "cell_type": "code",
   "execution_count": 30,
   "metadata": {},
   "outputs": [],
   "source": [
    "os.chdir('/media/sf_skharabian/Google Drive/AiTalents/ConReg_v1/')\n",
    "os.mkdir('Json_2_html')"
   ]
  },
  {
   "cell_type": "code",
   "execution_count": 31,
   "metadata": {},
   "outputs": [
    {
     "name": "stdout",
     "output_type": "stream",
     "text": [
      "ai-challenge\t\t\t\t\t\t    Older_versions\r\n",
      "Copy_of_Topic_modelling_with_Genism_for_Binder_final.ipynb  requirements.txt\r\n",
      "Genism\t\t\t\t\t\t\t    stopwords.txt\r\n",
      "Json_2_html\t\t\t\t\t\t    Untitled.ipynb\r\n",
      "myfile.txt\r\n"
     ]
    }
   ],
   "source": [
    "!ls"
   ]
  },
  {
   "cell_type": "code",
   "execution_count": null,
   "metadata": {},
   "outputs": [],
   "source": []
  }
 ],
 "metadata": {
  "kernelspec": {
   "display_name": "Python 3",
   "language": "python",
   "name": "python3"
  },
  "language_info": {
   "codemirror_mode": {
    "name": "ipython",
    "version": 3
   },
   "file_extension": ".py",
   "mimetype": "text/x-python",
   "name": "python",
   "nbconvert_exporter": "python",
   "pygments_lexer": "ipython3",
   "version": "3.6.12"
  }
 },
 "nbformat": 4,
 "nbformat_minor": 4
}
